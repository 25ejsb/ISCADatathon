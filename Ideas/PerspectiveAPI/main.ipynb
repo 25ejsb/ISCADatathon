{
 "cells": [
  {
   "cell_type": "code",
   "execution_count": 8,
   "metadata": {},
   "outputs": [
    {
     "name": "stdout",
     "output_type": "stream",
     "text": [
      "Requirement already satisfied: transformers in /home/linuxbrew/.linuxbrew/opt/python@3.13/lib/python3.13/site-packages (2.5.1)\n",
      "Collecting transformers\n",
      "  Using cached transformers-4.45.2-py3-none-any.whl.metadata (44 kB)\n",
      "Requirement already satisfied: filelock in /home/linuxbrew/.linuxbrew/opt/python@3.13/lib/python3.13/site-packages (from transformers) (3.16.1)\n",
      "Collecting huggingface-hub<1.0,>=0.23.2 (from transformers)\n",
      "  Using cached huggingface_hub-0.26.0-py3-none-any.whl.metadata (13 kB)\n",
      "Requirement already satisfied: numpy>=1.17 in /home/linuxbrew/.linuxbrew/opt/python@3.13/lib/python3.13/site-packages (from transformers) (2.1.2)\n",
      "Requirement already satisfied: packaging>=20.0 in /home/eitan/.local/lib/python3.13/site-packages (from transformers) (24.1)\n",
      "Collecting pyyaml>=5.1 (from transformers)\n",
      "  Using cached PyYAML-6.0.2-cp313-cp313-manylinux_2_17_x86_64.manylinux2014_x86_64.whl.metadata (2.1 kB)\n",
      "Requirement already satisfied: regex!=2019.12.17 in /home/linuxbrew/.linuxbrew/opt/python@3.13/lib/python3.13/site-packages (from transformers) (2024.9.11)\n",
      "Requirement already satisfied: requests in /home/linuxbrew/.linuxbrew/opt/python@3.13/lib/python3.13/site-packages (from transformers) (2.32.3)\n",
      "Collecting safetensors>=0.4.1 (from transformers)\n",
      "  Using cached safetensors-0.4.5-cp313-cp313-manylinux_2_17_x86_64.manylinux2014_x86_64.whl.metadata (3.8 kB)\n",
      "Collecting tokenizers<0.21,>=0.20 (from transformers)\n",
      "  Using cached tokenizers-0.20.1.tar.gz (339 kB)\n",
      "  Installing build dependencies ... \u001b[?25ldone\n",
      "\u001b[?25h  Getting requirements to build wheel ... \u001b[?25ldone\n",
      "\u001b[?25h  Preparing metadata (pyproject.toml) ... \u001b[?25ldone\n",
      "\u001b[?25hRequirement already satisfied: tqdm>=4.27 in /home/linuxbrew/.linuxbrew/opt/python@3.13/lib/python3.13/site-packages (from transformers) (4.66.5)\n",
      "Requirement already satisfied: fsspec>=2023.5.0 in /home/linuxbrew/.linuxbrew/opt/python@3.13/lib/python3.13/site-packages (from huggingface-hub<1.0,>=0.23.2->transformers) (2024.9.0)\n",
      "Requirement already satisfied: typing-extensions>=3.7.4.3 in /home/linuxbrew/.linuxbrew/opt/python@3.13/lib/python3.13/site-packages (from huggingface-hub<1.0,>=0.23.2->transformers) (4.12.2)\n",
      "Requirement already satisfied: charset-normalizer<4,>=2 in /home/linuxbrew/.linuxbrew/opt/python@3.13/lib/python3.13/site-packages (from requests->transformers) (3.4.0)\n",
      "Requirement already satisfied: idna<4,>=2.5 in /home/linuxbrew/.linuxbrew/opt/python@3.13/lib/python3.13/site-packages (from requests->transformers) (3.10)\n",
      "Requirement already satisfied: urllib3<3,>=1.21.1 in /home/linuxbrew/.linuxbrew/opt/python@3.13/lib/python3.13/site-packages (from requests->transformers) (2.2.3)\n",
      "Requirement already satisfied: certifi>=2017.4.17 in /home/linuxbrew/.linuxbrew/opt/python@3.13/lib/python3.13/site-packages (from requests->transformers) (2024.8.30)\n",
      "Using cached transformers-4.45.2-py3-none-any.whl (9.9 MB)\n",
      "Using cached huggingface_hub-0.26.0-py3-none-any.whl (447 kB)\n",
      "Using cached PyYAML-6.0.2-cp313-cp313-manylinux_2_17_x86_64.manylinux2014_x86_64.whl (759 kB)\n",
      "Using cached safetensors-0.4.5-cp313-cp313-manylinux_2_17_x86_64.manylinux2014_x86_64.whl (435 kB)\n",
      "Building wheels for collected packages: tokenizers\n",
      "  Building wheel for tokenizers (pyproject.toml) ... \u001b[?25lerror\n",
      "  \u001b[1;31merror\u001b[0m: \u001b[1msubprocess-exited-with-error\u001b[0m\n",
      "  \n",
      "  \u001b[31m×\u001b[0m \u001b[32mBuilding wheel for tokenizers \u001b[0m\u001b[1;32m(\u001b[0m\u001b[32mpyproject.toml\u001b[0m\u001b[1;32m)\u001b[0m did not run successfully.\n",
      "  \u001b[31m│\u001b[0m exit code: \u001b[1;36m1\u001b[0m\n",
      "  \u001b[31m╰─>\u001b[0m \u001b[31m[107 lines of output]\u001b[0m\n",
      "  \u001b[31m   \u001b[0m Running `maturin pep517 build-wheel -i /home/linuxbrew/.linuxbrew/opt/python@3.13/bin/python3.13 --compatibility off`\n",
      "  \u001b[31m   \u001b[0m 🍹 Building a mixed python/rust project\n",
      "  \u001b[31m   \u001b[0m 🔗 Found pyo3 bindings\n",
      "  \u001b[31m   \u001b[0m 🐍 Found CPython 3.13 at /home/linuxbrew/.linuxbrew/opt/python@3.13/bin/python3.13\n",
      "  \u001b[31m   \u001b[0m 📡 Using build options features, bindings from pyproject.toml\n",
      "  \u001b[31m   \u001b[0m \u001b[1m\u001b[32m   Compiling\u001b[0m proc-macro2 v1.0.86\n",
      "  \u001b[31m   \u001b[0m \u001b[1m\u001b[32m   Compiling\u001b[0m unicode-ident v1.0.13\n",
      "  \u001b[31m   \u001b[0m \u001b[1m\u001b[32m   Compiling\u001b[0m autocfg v1.4.0\n",
      "  \u001b[31m   \u001b[0m \u001b[1m\u001b[32m   Compiling\u001b[0m libc v0.2.159\n",
      "  \u001b[31m   \u001b[0m \u001b[1m\u001b[32m   Compiling\u001b[0m target-lexicon v0.12.16\n",
      "  \u001b[31m   \u001b[0m \u001b[1m\u001b[32m   Compiling\u001b[0m once_cell v1.20.1\n",
      "  \u001b[31m   \u001b[0m \u001b[1m\u001b[32m   Compiling\u001b[0m cfg-if v1.0.0\n",
      "  \u001b[31m   \u001b[0m \u001b[1m\u001b[32m   Compiling\u001b[0m memchr v2.7.4\n",
      "  \u001b[31m   \u001b[0m \u001b[1m\u001b[32m   Compiling\u001b[0m shlex v1.3.0\n",
      "  \u001b[31m   \u001b[0m \u001b[1m\u001b[32m   Compiling\u001b[0m crossbeam-utils v0.8.20\n",
      "  \u001b[31m   \u001b[0m \u001b[1m\u001b[32m   Compiling\u001b[0m strsim v0.11.1\n",
      "  \u001b[31m   \u001b[0m \u001b[1m\u001b[32m   Compiling\u001b[0m ident_case v1.0.1\n",
      "  \u001b[31m   \u001b[0m \u001b[1m\u001b[32m   Compiling\u001b[0m fnv v1.0.7\n",
      "  \u001b[31m   \u001b[0m \u001b[1m\u001b[32m   Compiling\u001b[0m portable-atomic v1.9.0\n",
      "  \u001b[31m   \u001b[0m \u001b[1m\u001b[32m   Compiling\u001b[0m smallvec v1.13.2\n",
      "  \u001b[31m   \u001b[0m \u001b[1m\u001b[32m   Compiling\u001b[0m serde v1.0.210\n",
      "  \u001b[31m   \u001b[0m \u001b[1m\u001b[32m   Compiling\u001b[0m pkg-config v0.3.31\n",
      "  \u001b[31m   \u001b[0m \u001b[1m\u001b[32m   Compiling\u001b[0m rayon-core v1.12.1\n",
      "  \u001b[31m   \u001b[0m \u001b[1m\u001b[32m   Compiling\u001b[0m parking_lot_core v0.9.10\n",
      "  \u001b[31m   \u001b[0m \u001b[1m\u001b[32m   Compiling\u001b[0m either v1.13.0\n",
      "  \u001b[31m   \u001b[0m \u001b[1m\u001b[32m   Compiling\u001b[0m cc v1.1.22\n",
      "  \u001b[31m   \u001b[0m \u001b[1m\u001b[32m   Compiling\u001b[0m regex-syntax v0.8.5\n",
      "  \u001b[31m   \u001b[0m \u001b[1m\u001b[32m   Compiling\u001b[0m byteorder v1.5.0\n",
      "  \u001b[31m   \u001b[0m \u001b[1m\u001b[32m   Compiling\u001b[0m paste v1.0.15\n",
      "  \u001b[31m   \u001b[0m \u001b[1m\u001b[32m   Compiling\u001b[0m scopeguard v1.2.0\n",
      "  \u001b[31m   \u001b[0m \u001b[1m\u001b[32m   Compiling\u001b[0m heck v0.4.1\n",
      "  \u001b[31m   \u001b[0m \u001b[1m\u001b[32m   Compiling\u001b[0m unicode-width v0.1.14\n",
      "  \u001b[31m   \u001b[0m \u001b[1m\u001b[32m   Compiling\u001b[0m num-traits v0.2.19\n",
      "  \u001b[31m   \u001b[0m \u001b[1m\u001b[32m   Compiling\u001b[0m lock_api v0.4.12\n",
      "  \u001b[31m   \u001b[0m \u001b[1m\u001b[32m   Compiling\u001b[0m memoffset v0.9.1\n",
      "  \u001b[31m   \u001b[0m \u001b[1m\u001b[32m   Compiling\u001b[0m aho-corasick v1.1.3\n",
      "  \u001b[31m   \u001b[0m \u001b[1m\u001b[32m   Compiling\u001b[0m matrixmultiply v0.3.9\n",
      "  \u001b[31m   \u001b[0m \u001b[1m\u001b[32m   Compiling\u001b[0m utf8parse v0.2.2\n",
      "  \u001b[31m   \u001b[0m \u001b[1m\u001b[32m   Compiling\u001b[0m lazy_static v1.5.0\n",
      "  \u001b[31m   \u001b[0m \u001b[1m\u001b[32m   Compiling\u001b[0m serde_json v1.0.128\n",
      "  \u001b[31m   \u001b[0m \u001b[1m\u001b[32m   Compiling\u001b[0m minimal-lexical v0.2.1\n",
      "  \u001b[31m   \u001b[0m \u001b[1m\u001b[32m   Compiling\u001b[0m rawpointer v0.2.1\n",
      "  \u001b[31m   \u001b[0m \u001b[1m\u001b[32m   Compiling\u001b[0m log v0.4.22\n",
      "  \u001b[31m   \u001b[0m \u001b[1m\u001b[32m   Compiling\u001b[0m thiserror v1.0.64\n",
      "  \u001b[31m   \u001b[0m \u001b[1m\u001b[32m   Compiling\u001b[0m quote v1.0.37\n",
      "  \u001b[31m   \u001b[0m \u001b[1m\u001b[32m   Compiling\u001b[0m crossbeam-epoch v0.9.18\n",
      "  \u001b[31m   \u001b[0m \u001b[1m\u001b[32m   Compiling\u001b[0m pyo3-build-config v0.21.2\n",
      "  \u001b[31m   \u001b[0m \u001b[1m\u001b[32m   Compiling\u001b[0m nom v7.1.3\n",
      "  \u001b[31m   \u001b[0m \u001b[1m\u001b[32m   Compiling\u001b[0m syn v2.0.79\n",
      "  \u001b[31m   \u001b[0m \u001b[1m\u001b[32m   Compiling\u001b[0m anstyle-parse v0.2.5\n",
      "  \u001b[31m   \u001b[0m \u001b[1m\u001b[32m   Compiling\u001b[0m itertools v0.11.0\n",
      "  \u001b[31m   \u001b[0m \u001b[1m\u001b[32m   Compiling\u001b[0m crossbeam-deque v0.8.5\n",
      "  \u001b[31m   \u001b[0m \u001b[1m\u001b[32m   Compiling\u001b[0m getrandom v0.2.15\n",
      "  \u001b[31m   \u001b[0m \u001b[1m\u001b[32m   Compiling\u001b[0m onig_sys v69.8.1\n",
      "  \u001b[31m   \u001b[0m \u001b[1m\u001b[32m   Compiling\u001b[0m rand_core v0.6.4\n",
      "  \u001b[31m   \u001b[0m \u001b[1m\u001b[32m   Compiling\u001b[0m esaxx-rs v0.1.10\n",
      "  \u001b[31m   \u001b[0m \u001b[1m\u001b[32m   Compiling\u001b[0m parking_lot v0.12.3\n",
      "  \u001b[31m   \u001b[0m \u001b[1m\u001b[32m   Compiling\u001b[0m console v0.15.8\n",
      "  \u001b[31m   \u001b[0m \u001b[1m\u001b[32m   Compiling\u001b[0m base64 v0.13.1\n",
      "  \u001b[31m   \u001b[0m \u001b[1m\u001b[32m   Compiling\u001b[0m anstyle-query v1.1.1\n",
      "  \u001b[31m   \u001b[0m \u001b[1m\u001b[32m   Compiling\u001b[0m num-complex v0.4.6\n",
      "  \u001b[31m   \u001b[0m \u001b[1m\u001b[32m   Compiling\u001b[0m num-integer v0.1.46\n",
      "  \u001b[31m   \u001b[0m \u001b[1m\u001b[32m   Compiling\u001b[0m rayon v1.10.0\n",
      "  \u001b[31m   \u001b[0m \u001b[1m\u001b[32m   Compiling\u001b[0m regex-automata v0.4.8\n",
      "  \u001b[31m   \u001b[0m \u001b[1m\u001b[32m   Compiling\u001b[0m ryu v1.0.18\n",
      "  \u001b[31m   \u001b[0m \u001b[1m\u001b[32m   Compiling\u001b[0m unicode-segmentation v1.12.0\n",
      "  \u001b[31m   \u001b[0m \u001b[1m\u001b[32m   Compiling\u001b[0m anstyle v1.0.8\n",
      "  \u001b[31m   \u001b[0m \u001b[1m\u001b[32m   Compiling\u001b[0m is_terminal_polyfill v1.70.1\n",
      "  \u001b[31m   \u001b[0m \u001b[1m\u001b[32m   Compiling\u001b[0m indoc v2.0.5\n",
      "  \u001b[31m   \u001b[0m \u001b[1m\u001b[32m   Compiling\u001b[0m colorchoice v1.0.2\n",
      "  \u001b[31m   \u001b[0m \u001b[1m\u001b[32m   Compiling\u001b[0m itoa v1.0.11\n",
      "  \u001b[31m   \u001b[0m \u001b[1m\u001b[32m   Compiling\u001b[0m unindent v0.2.3\n",
      "  \u001b[31m   \u001b[0m \u001b[1m\u001b[32m   Compiling\u001b[0m number_prefix v0.4.0\n",
      "  \u001b[31m   \u001b[0m \u001b[1m\u001b[32m   Compiling\u001b[0m macro_rules_attribute-proc_macro v0.2.0\n",
      "  \u001b[31m   \u001b[0m \u001b[1m\u001b[32m   Compiling\u001b[0m bitflags v1.3.2\n",
      "  \u001b[31m   \u001b[0m \u001b[1m\u001b[32m   Compiling\u001b[0m indicatif v0.17.8\n",
      "  \u001b[31m   \u001b[0m \u001b[1m\u001b[32m   Compiling\u001b[0m anstream v0.6.15\n",
      "  \u001b[31m   \u001b[0m \u001b[1m\u001b[32m   Compiling\u001b[0m ndarray v0.15.6\n",
      "  \u001b[31m   \u001b[0m \u001b[1m\u001b[32m   Compiling\u001b[0m pyo3-ffi v0.21.2\n",
      "  \u001b[31m   \u001b[0m \u001b[1m\u001b[32m   Compiling\u001b[0m pyo3 v0.21.2\n",
      "  \u001b[31m   \u001b[0m \u001b[1m\u001b[32m   Compiling\u001b[0m itertools v0.12.1\n",
      "  \u001b[31m   \u001b[0m \u001b[1m\u001b[32m   Compiling\u001b[0m unicode-normalization-alignments v0.1.12\n",
      "  \u001b[31m   \u001b[0m \u001b[1m\u001b[32m   Compiling\u001b[0m unicode_categories v0.1.1\n",
      "  \u001b[31m   \u001b[0m \u001b[1m\u001b[32m   Compiling\u001b[0m rustc-hash v1.1.0\n",
      "  \u001b[31m   \u001b[0m \u001b[1m\u001b[32m   Compiling\u001b[0m humantime v2.1.0\n",
      "  \u001b[31m   \u001b[0m \u001b[1m\u001b[32m   Compiling\u001b[0m macro_rules_attribute v0.2.0\n",
      "  \u001b[31m   \u001b[0m \u001b[1m\u001b[31merror\u001b[0m\u001b[1m:\u001b[0m failed to run custom build command for `pyo3-ffi v0.21.2`\n",
      "  \u001b[31m   \u001b[0m \n",
      "  \u001b[31m   \u001b[0m Caused by:\n",
      "  \u001b[31m   \u001b[0m   process didn't exit successfully: `/tmp/pip-install-a5isg_hj/tokenizers_2257cec6b0ee429eb757f099212e9f97/bindings/python/target/release/build/pyo3-ffi-f520a0951f03389d/build-script-build` (exit status: 1)\n",
      "  \u001b[31m   \u001b[0m   --- stdout\n",
      "  \u001b[31m   \u001b[0m   cargo:rerun-if-env-changed=PYO3_CROSS\n",
      "  \u001b[31m   \u001b[0m   cargo:rerun-if-env-changed=PYO3_CROSS_LIB_DIR\n",
      "  \u001b[31m   \u001b[0m   cargo:rerun-if-env-changed=PYO3_CROSS_PYTHON_VERSION\n",
      "  \u001b[31m   \u001b[0m   cargo:rerun-if-env-changed=PYO3_CROSS_PYTHON_IMPLEMENTATION\n",
      "  \u001b[31m   \u001b[0m   cargo:rerun-if-env-changed=PYO3_PRINT_CONFIG\n",
      "  \u001b[31m   \u001b[0m   cargo:rerun-if-env-changed=PYO3_USE_ABI3_FORWARD_COMPATIBILITY\n",
      "  \u001b[31m   \u001b[0m \n",
      "  \u001b[31m   \u001b[0m   --- stderr\n",
      "  \u001b[31m   \u001b[0m   error: the configured Python interpreter version (3.13) is newer than PyO3's maximum supported version (3.12)\n",
      "  \u001b[31m   \u001b[0m   = help: please check if an updated version of PyO3 is available. Current version: 0.21.2\n",
      "  \u001b[31m   \u001b[0m   = help: set PYO3_USE_ABI3_FORWARD_COMPATIBILITY=1 to suppress this check and build anyway using the stable ABI\n",
      "  \u001b[31m   \u001b[0m \u001b[1m\u001b[33mwarning\u001b[0m\u001b[1m:\u001b[0m build failed, waiting for other jobs to finish...\n",
      "  \u001b[31m   \u001b[0m 💥 maturin failed\n",
      "  \u001b[31m   \u001b[0m   Caused by: Failed to build a native library through cargo\n",
      "  \u001b[31m   \u001b[0m   Caused by: Cargo build finished with \"exit status: 101\": `env -u CARGO PYO3_ENVIRONMENT_SIGNATURE=\"cpython-3.13-64bit\" PYO3_PYTHON=\"/home/linuxbrew/.linuxbrew/opt/python@3.13/bin/python3.13\" PYTHON_SYS_EXECUTABLE=\"/home/linuxbrew/.linuxbrew/opt/python@3.13/bin/python3.13\" \"cargo\" \"rustc\" \"--features\" \"pyo3/extension-module\" \"--message-format\" \"json-render-diagnostics\" \"--manifest-path\" \"/tmp/pip-install-a5isg_hj/tokenizers_2257cec6b0ee429eb757f099212e9f97/bindings/python/Cargo.toml\" \"--release\" \"--lib\"`\n",
      "  \u001b[31m   \u001b[0m Error: command ['maturin', 'pep517', 'build-wheel', '-i', '/home/linuxbrew/.linuxbrew/opt/python@3.13/bin/python3.13', '--compatibility', 'off'] returned non-zero exit status 1\n",
      "  \u001b[31m   \u001b[0m \u001b[31m[end of output]\u001b[0m\n",
      "  \n",
      "  \u001b[1;35mnote\u001b[0m: This error originates from a subprocess, and is likely not a problem with pip.\n",
      "\u001b[?25h\u001b[31m  ERROR: Failed building wheel for tokenizers\u001b[0m\u001b[31m\n",
      "\u001b[0mFailed to build tokenizers\n",
      "\u001b[31mERROR: ERROR: Failed to build installable wheels for some pyproject.toml based projects (tokenizers)\u001b[0m\u001b[31m\n",
      "\u001b[0mNote: you may need to restart the kernel to use updated packages.\n",
      "Requirement already satisfied: textblob in /home/linuxbrew/.linuxbrew/opt/python@3.13/lib/python3.13/site-packages (0.18.0.post0)\n",
      "Requirement already satisfied: nltk>=3.8 in /home/linuxbrew/.linuxbrew/opt/python@3.13/lib/python3.13/site-packages (from textblob) (3.9.1)\n",
      "Requirement already satisfied: click in /home/linuxbrew/.linuxbrew/opt/python@3.13/lib/python3.13/site-packages (from nltk>=3.8->textblob) (8.1.7)\n",
      "Requirement already satisfied: joblib in /home/linuxbrew/.linuxbrew/opt/python@3.13/lib/python3.13/site-packages (from nltk>=3.8->textblob) (1.4.2)\n",
      "Requirement already satisfied: regex>=2021.8.3 in /home/linuxbrew/.linuxbrew/opt/python@3.13/lib/python3.13/site-packages (from nltk>=3.8->textblob) (2024.9.11)\n",
      "Requirement already satisfied: tqdm in /home/linuxbrew/.linuxbrew/opt/python@3.13/lib/python3.13/site-packages (from nltk>=3.8->textblob) (4.66.5)\n",
      "Note: you may need to restart the kernel to use updated packages.\n"
     ]
    }
   ],
   "source": [
    "%pip install -U transformers\n",
    "%pip install -U textblob"
   ]
  },
  {
   "cell_type": "code",
   "execution_count": 9,
   "metadata": {},
   "outputs": [],
   "source": [
    "import nltk"
   ]
  },
  {
   "cell_type": "code",
   "execution_count": 4,
   "metadata": {},
   "outputs": [],
   "source": [
    "from textblob import TextBlob, classifiers\n",
    "\n",
    "text: str = \"You realize that “children of Israel” means “children of Jacob,” because he was given the name Israel after wrestling an angel? It does not mean the land of Israel and certainly not the modern state of Israel.\"\n",
    "blob = TextBlob(text)"
   ]
  },
  {
   "cell_type": "code",
   "execution_count": 5,
   "metadata": {},
   "outputs": [
    {
     "name": "stdout",
     "output_type": "stream",
     "text": [
      "0.0\n",
      "0.08303571428571428\n"
     ]
    }
   ],
   "source": [
    "for sentence in blob.sentences:\n",
    "    print(sentence.sentiment.polarity)"
   ]
  },
  {
   "cell_type": "code",
   "execution_count": 6,
   "metadata": {},
   "outputs": [
    {
     "data": {
      "text/plain": [
       "WordList(['“ children', 'israel', '“ children', 'jacob', 'israel', 'israel', 'modern state', 'israel'])"
      ]
     },
     "execution_count": 6,
     "metadata": {},
     "output_type": "execute_result"
    }
   ],
   "source": [
    "blob.noun_phrases"
   ]
  },
  {
   "cell_type": "code",
   "execution_count": 7,
   "metadata": {},
   "outputs": [
    {
     "data": {
      "text/plain": [
       "{'neg': 0.0, 'neu': 0.938, 'pos': 0.062, 'compound': 0.34}"
      ]
     },
     "execution_count": 7,
     "metadata": {},
     "output_type": "execute_result"
    }
   ],
   "source": [
    "import nltk.sentiment\n",
    "import nltk.sentiment.vader\n",
    "\n",
    "\n",
    "nltk_sentiment = nltk.sentiment.vader.SentimentIntensityAnalyzer()\n",
    "nltk_sentiment.polarity_scores(text)"
   ]
  }
 ],
 "metadata": {
  "kernelspec": {
   "display_name": "Python 3",
   "language": "python",
   "name": "python3"
  },
  "language_info": {
   "codemirror_mode": {
    "name": "ipython",
    "version": 3
   },
   "file_extension": ".py",
   "mimetype": "text/x-python",
   "name": "python",
   "nbconvert_exporter": "python",
   "pygments_lexer": "ipython3",
   "version": "3.13.0"
  }
 },
 "nbformat": 4,
 "nbformat_minor": 2
}
